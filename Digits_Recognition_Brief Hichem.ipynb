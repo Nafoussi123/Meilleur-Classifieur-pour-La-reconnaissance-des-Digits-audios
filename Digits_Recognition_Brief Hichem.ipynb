{
 "cells": [
  {
   "cell_type": "markdown",
   "metadata": {},
   "source": [
    "# Reconnaissance des Digits basée sur les enregistrements Audios "
   ]
  },
  {
   "cell_type": "markdown",
   "metadata": {},
   "source": [
    "### Importer les bibliothéques necessaires "
   ]
  },
  {
   "cell_type": "code",
   "execution_count": 1,
   "metadata": {},
   "outputs": [],
   "source": [
    "import numpy as np\n",
    "import os\n",
    "import matplotlib.pyplot as plt\n",
    "import seaborn as sb\n",
    "sb.set_style(\"whitegrid\", {'axes.grid' : False})\n",
    "sb.set(font_scale = 2)\n",
    "import pandas as pd\n",
    "from sklearn.model_selection import train_test_split\n",
    "from sklearn.preprocessing import StandardScaler\n",
    "from sklearn.tree import DecisionTreeClassifier\n",
    "from sklearn.ensemble import RandomForestClassifier\n",
    "from sklearn.ensemble import GradientBoostingClassifier\n",
    "from sklearn.svm import SVC\n",
    "from sklearn.neural_network import MLPClassifier\n",
    "from sklearn import metrics"
   ]
  },
  {
   "cell_type": "code",
   "execution_count": 2,
   "metadata": {},
   "outputs": [],
   "source": [
    "from Tools.tools import rec\n",
    "from Tools.tools import collection"
   ]
  },
  {
   "cell_type": "markdown",
   "metadata": {},
   "source": [
    "### Collection "
   ]
  },
  {
   "cell_type": "code",
   "execution_count": 3,
   "metadata": {},
   "outputs": [],
   "source": [
    "# collection()"
   ]
  },
  {
   "cell_type": "markdown",
   "metadata": {},
   "source": [
    "#### 1. Importer votre DataSet"
   ]
  },
  {
   "cell_type": "code",
   "execution_count": 4,
   "metadata": {},
   "outputs": [],
   "source": [
    "mydata = pd.read_csv('./DataSet/'+os.listdir('./DataSet/')[0])"
   ]
  },
  {
   "cell_type": "markdown",
   "metadata": {},
   "source": [
    "##### Print"
   ]
  },
  {
   "cell_type": "code",
   "execution_count": 5,
   "metadata": {},
   "outputs": [
    {
     "data": {
      "text/html": [
       "<div>\n",
       "<style scoped>\n",
       "    .dataframe tbody tr th:only-of-type {\n",
       "        vertical-align: middle;\n",
       "    }\n",
       "\n",
       "    .dataframe tbody tr th {\n",
       "        vertical-align: top;\n",
       "    }\n",
       "\n",
       "    .dataframe thead th {\n",
       "        text-align: right;\n",
       "    }\n",
       "</style>\n",
       "<table border=\"1\" class=\"dataframe\">\n",
       "  <thead>\n",
       "    <tr style=\"text-align: right;\">\n",
       "      <th></th>\n",
       "      <th>Fe1</th>\n",
       "      <th>Fe2</th>\n",
       "      <th>Fe3</th>\n",
       "      <th>Fe4</th>\n",
       "      <th>Fe5</th>\n",
       "      <th>Fe6</th>\n",
       "      <th>Fe7</th>\n",
       "      <th>Fe8</th>\n",
       "      <th>Fe9</th>\n",
       "      <th>Fe10</th>\n",
       "      <th>Fe11</th>\n",
       "      <th>Fe12</th>\n",
       "      <th>Target</th>\n",
       "    </tr>\n",
       "  </thead>\n",
       "  <tbody>\n",
       "    <tr>\n",
       "      <th>0</th>\n",
       "      <td>12.607351</td>\n",
       "      <td>-22.400816</td>\n",
       "      <td>-1.616791</td>\n",
       "      <td>-7.391559</td>\n",
       "      <td>-2.244558</td>\n",
       "      <td>-9.111102</td>\n",
       "      <td>0.237806</td>\n",
       "      <td>0.712023</td>\n",
       "      <td>1.189393</td>\n",
       "      <td>1.758172</td>\n",
       "      <td>-1.742375</td>\n",
       "      <td>-2.593895</td>\n",
       "      <td>0.0</td>\n",
       "    </tr>\n",
       "    <tr>\n",
       "      <th>1</th>\n",
       "      <td>12.334870</td>\n",
       "      <td>-11.213629</td>\n",
       "      <td>-6.550703</td>\n",
       "      <td>-11.956777</td>\n",
       "      <td>2.136547</td>\n",
       "      <td>-4.668772</td>\n",
       "      <td>1.372930</td>\n",
       "      <td>-2.039695</td>\n",
       "      <td>2.678504</td>\n",
       "      <td>8.383901</td>\n",
       "      <td>-1.087158</td>\n",
       "      <td>-6.082545</td>\n",
       "      <td>1.0</td>\n",
       "    </tr>\n",
       "    <tr>\n",
       "      <th>2</th>\n",
       "      <td>10.660119</td>\n",
       "      <td>-22.497527</td>\n",
       "      <td>-1.015792</td>\n",
       "      <td>-7.884444</td>\n",
       "      <td>-1.212321</td>\n",
       "      <td>-6.523361</td>\n",
       "      <td>0.397493</td>\n",
       "      <td>0.929390</td>\n",
       "      <td>1.252849</td>\n",
       "      <td>2.049277</td>\n",
       "      <td>-2.432330</td>\n",
       "      <td>-5.685531</td>\n",
       "      <td>2.0</td>\n",
       "    </tr>\n",
       "    <tr>\n",
       "      <th>3</th>\n",
       "      <td>15.432565</td>\n",
       "      <td>-21.435025</td>\n",
       "      <td>-6.452266</td>\n",
       "      <td>-8.672601</td>\n",
       "      <td>-2.460852</td>\n",
       "      <td>-7.846692</td>\n",
       "      <td>0.619813</td>\n",
       "      <td>1.149285</td>\n",
       "      <td>2.248097</td>\n",
       "      <td>2.495668</td>\n",
       "      <td>1.425382</td>\n",
       "      <td>-2.641306</td>\n",
       "      <td>3.0</td>\n",
       "    </tr>\n",
       "    <tr>\n",
       "      <th>4</th>\n",
       "      <td>10.443099</td>\n",
       "      <td>-15.331559</td>\n",
       "      <td>-8.451362</td>\n",
       "      <td>-10.388280</td>\n",
       "      <td>-3.406530</td>\n",
       "      <td>-10.486777</td>\n",
       "      <td>3.599802</td>\n",
       "      <td>5.361110</td>\n",
       "      <td>4.298604</td>\n",
       "      <td>5.562914</td>\n",
       "      <td>0.894111</td>\n",
       "      <td>-3.741900</td>\n",
       "      <td>4.0</td>\n",
       "    </tr>\n",
       "  </tbody>\n",
       "</table>\n",
       "</div>"
      ],
      "text/plain": [
       "         Fe1        Fe2       Fe3        Fe4       Fe5        Fe6       Fe7  \\\n",
       "0  12.607351 -22.400816 -1.616791  -7.391559 -2.244558  -9.111102  0.237806   \n",
       "1  12.334870 -11.213629 -6.550703 -11.956777  2.136547  -4.668772  1.372930   \n",
       "2  10.660119 -22.497527 -1.015792  -7.884444 -1.212321  -6.523361  0.397493   \n",
       "3  15.432565 -21.435025 -6.452266  -8.672601 -2.460852  -7.846692  0.619813   \n",
       "4  10.443099 -15.331559 -8.451362 -10.388280 -3.406530 -10.486777  3.599802   \n",
       "\n",
       "        Fe8       Fe9      Fe10      Fe11      Fe12  Target  \n",
       "0  0.712023  1.189393  1.758172 -1.742375 -2.593895     0.0  \n",
       "1 -2.039695  2.678504  8.383901 -1.087158 -6.082545     1.0  \n",
       "2  0.929390  1.252849  2.049277 -2.432330 -5.685531     2.0  \n",
       "3  1.149285  2.248097  2.495668  1.425382 -2.641306     3.0  \n",
       "4  5.361110  4.298604  5.562914  0.894111 -3.741900     4.0  "
      ]
     },
     "execution_count": 5,
     "metadata": {},
     "output_type": "execute_result"
    }
   ],
   "source": [
    "mydata.head()"
   ]
  },
  {
   "cell_type": "code",
   "execution_count": 6,
   "metadata": {},
   "outputs": [
    {
     "name": "stdout",
     "output_type": "stream",
     "text": [
      "           Fe1        Fe2        Fe3        Fe4       Fe5        Fe6  \\\n",
      "0    12.607351 -22.400816  -1.616791  -7.391559 -2.244558  -9.111102   \n",
      "1    12.334870 -11.213629  -6.550703 -11.956777  2.136547  -4.668772   \n",
      "2    10.660119 -22.497527  -1.015792  -7.884444 -1.212321  -6.523361   \n",
      "3    15.432565 -21.435025  -6.452266  -8.672601 -2.460852  -7.846692   \n",
      "4    10.443099 -15.331559  -8.451362 -10.388280 -3.406530 -10.486777   \n",
      "..         ...        ...        ...        ...       ...        ...   \n",
      "105  12.674759 -13.258004  -7.682607  -6.426176 -1.400366 -10.031839   \n",
      "106  13.757265 -17.225183 -12.112339  -1.040721  0.476273 -14.038060   \n",
      "107  13.215193 -13.418359  -7.862219  -4.383815 -2.774445 -12.829156   \n",
      "108  11.037619 -13.034576  -4.282365  -6.448234 -1.299105 -10.983215   \n",
      "109  12.267933 -12.711588  -9.190356  -8.692272  1.827136  -8.815610   \n",
      "\n",
      "          Fe7       Fe8       Fe9       Fe10      Fe11       Fe12  Target  \n",
      "0    0.237806  0.712023  1.189393   1.758172 -1.742375  -2.593895     0.0  \n",
      "1    1.372930 -2.039695  2.678504   8.383901 -1.087158  -6.082545     1.0  \n",
      "2    0.397493  0.929390  1.252849   2.049277 -2.432330  -5.685531     2.0  \n",
      "3    0.619813  1.149285  2.248097   2.495668  1.425382  -2.641306     3.0  \n",
      "4    3.599802  5.361110  4.298604   5.562914  0.894111  -3.741900     4.0  \n",
      "..        ...       ...       ...        ...       ...        ...     ...  \n",
      "105  2.752371 -1.088423  3.044957  12.600155  1.788385  -9.323243     5.0  \n",
      "106  6.238894 -1.769183 -1.542585  15.061334  2.026205 -11.758718     6.0  \n",
      "107  6.897733  1.457611  0.386751  11.730357  1.977813  -7.403409     7.0  \n",
      "108 -0.454117 -0.136703  1.319634   5.722810 -1.408982  -7.420047     8.0  \n",
      "109 -1.747560 -0.207380  7.453415  11.919788 -1.588251  -8.860996     9.0  \n",
      "\n",
      "[110 rows x 13 columns]\n"
     ]
    }
   ],
   "source": [
    "print(mydata)\n"
   ]
  },
  {
   "cell_type": "code",
   "execution_count": 7,
   "metadata": {},
   "outputs": [
    {
     "data": {
      "text/plain": [
       "(110, 13)"
      ]
     },
     "execution_count": 7,
     "metadata": {},
     "output_type": "execute_result"
    }
   ],
   "source": [
    "mydata.shape"
   ]
  },
  {
   "cell_type": "markdown",
   "metadata": {},
   "source": [
    "#### 2. Checker les variables quantitatives/qualitatives et les valeurs manquantes "
   ]
  },
  {
   "cell_type": "code",
   "execution_count": 8,
   "metadata": {},
   "outputs": [
    {
     "name": "stdout",
     "output_type": "stream",
     "text": [
      "<class 'pandas.core.frame.DataFrame'>\n",
      "RangeIndex: 110 entries, 0 to 109\n",
      "Data columns (total 13 columns):\n",
      " #   Column  Non-Null Count  Dtype  \n",
      "---  ------  --------------  -----  \n",
      " 0   Fe1     110 non-null    float64\n",
      " 1   Fe2     110 non-null    float64\n",
      " 2   Fe3     110 non-null    float64\n",
      " 3   Fe4     110 non-null    float64\n",
      " 4   Fe5     110 non-null    float64\n",
      " 5   Fe6     110 non-null    float64\n",
      " 6   Fe7     110 non-null    float64\n",
      " 7   Fe8     110 non-null    float64\n",
      " 8   Fe9     110 non-null    float64\n",
      " 9   Fe10    110 non-null    float64\n",
      " 10  Fe11    110 non-null    float64\n",
      " 11  Fe12    110 non-null    float64\n",
      " 12  Target  110 non-null    float64\n",
      "dtypes: float64(13)\n",
      "memory usage: 11.3 KB\n"
     ]
    }
   ],
   "source": [
    "mydata.info()"
   ]
  },
  {
   "cell_type": "code",
   "execution_count": 9,
   "metadata": {},
   "outputs": [
    {
     "data": {
      "text/plain": [
       "(110, 13)"
      ]
     },
     "execution_count": 9,
     "metadata": {},
     "output_type": "execute_result"
    }
   ],
   "source": [
    "mydata.shape"
   ]
  },
  {
   "cell_type": "code",
   "execution_count": 10,
   "metadata": {},
   "outputs": [
    {
     "data": {
      "text/plain": [
       "Index(['Fe1', 'Fe2', 'Fe3', 'Fe4', 'Fe5', 'Fe6', 'Fe7', 'Fe8', 'Fe9', 'Fe10',\n",
       "       'Fe11', 'Fe12', 'Target'],\n",
       "      dtype='object')"
      ]
     },
     "execution_count": 10,
     "metadata": {},
     "output_type": "execute_result"
    }
   ],
   "source": [
    "mydata.columns"
   ]
  },
  {
   "cell_type": "code",
   "execution_count": 11,
   "metadata": {},
   "outputs": [
    {
     "name": "stdout",
     "output_type": "stream",
     "text": [
      "Fe1       0\n",
      "Fe2       0\n",
      "Fe3       0\n",
      "Fe4       0\n",
      "Fe5       0\n",
      "Fe6       0\n",
      "Fe7       0\n",
      "Fe8       0\n",
      "Fe9       0\n",
      "Fe10      0\n",
      "Fe11      0\n",
      "Fe12      0\n",
      "Target    0\n",
      "dtype: int64\n"
     ]
    }
   ],
   "source": [
    "print(mydata.isnull().sum())"
   ]
  },
  {
   "cell_type": "code",
   "execution_count": 12,
   "metadata": {},
   "outputs": [
    {
     "data": {
      "text/plain": [
       "9.0    11\n",
       "8.0    11\n",
       "7.0    11\n",
       "6.0    11\n",
       "5.0    11\n",
       "4.0    11\n",
       "3.0    11\n",
       "2.0    11\n",
       "1.0    11\n",
       "0.0    11\n",
       "Name: Target, dtype: int64"
      ]
     },
     "execution_count": 12,
     "metadata": {},
     "output_type": "execute_result"
    }
   ],
   "source": [
    "mydata['Target'].value_counts()"
   ]
  },
  {
   "cell_type": "code",
   "execution_count": 13,
   "metadata": {},
   "outputs": [
    {
     "data": {
      "text/plain": [
       "10"
      ]
     },
     "execution_count": 13,
     "metadata": {},
     "output_type": "execute_result"
    }
   ],
   "source": [
    "mydata['Target'].nunique()"
   ]
  },
  {
   "cell_type": "code",
   "execution_count": 14,
   "metadata": {},
   "outputs": [
    {
     "data": {
      "text/plain": [
       "array([0., 1., 2., 3., 4., 5., 6., 7., 8., 9.])"
      ]
     },
     "execution_count": 14,
     "metadata": {},
     "output_type": "execute_result"
    }
   ],
   "source": [
    "mydata['Target'].unique()"
   ]
  },
  {
   "cell_type": "markdown",
   "metadata": {},
   "source": [
    "#### 3. Visualiser les targets"
   ]
  },
  {
   "cell_type": "code",
   "execution_count": 15,
   "metadata": {},
   "outputs": [
    {
     "data": {
      "image/png": "[encoded data removed]",
      "text/plain": [
       "<Figure size 1080x648 with 1 Axes>"
      ]
     },
     "metadata": {},
     "output_type": "display_data"
    }
   ],
   "source": [
    "plt.figure(1,figsize=(15,9))\n",
    "sb.countplot(x='Target', data=mydata)\n",
    "plt.xlabel('Target')\n",
    "plt.ylabel('Count')\n",
    "plt.show()"
   ]
  },
  {
   "cell_type": "code",
   "execution_count": 16,
   "metadata": {},
   "outputs": [
    {
     "data": {
      "image/png": "[encoded data removed]",
      "text/plain": [
       "<Figure size 1080x648 with 1 Axes>"
      ]
     },
     "metadata": {},
     "output_type": "display_data"
    }
   ],
   "source": [
    "import seaborn as sns \n",
    "import matplotlib.pyplot as plt \n",
    "from sklearn.decomposition import PCA\n",
    "\n",
    "pca = PCA(n_components=2)\n",
    "df2 = pd.DataFrame(pca.fit_transform(mydata.iloc[:, :-1]))\n",
    "\n",
    "df2[\"Target\"] = mydata[\"Target\"]\n",
    "df2.columns = [\"P1\",\"P2\",\"Target\"]\n",
    "\n",
    "\n",
    "plt.figure(1,figsize=(15,9))\n",
    "plt.clf()\n",
    "sns.scatterplot(x=\"P1\",y=\"P2\",hue=\"Target\",data=df2, palette = \"Paired\")\n",
    "\n",
    "\n",
    "\n",
    "#plt.plot(x,y,\"+\")\n",
    "\n",
    "plt.xlabel('P1')\n",
    "plt.ylabel('P2')\n",
    "plt.legend(loc=2, prop={'size': 10})\n",
    "plt.show()"
   ]
  },
  {
   "cell_type": "markdown",
   "metadata": {},
   "source": [
    "#### 4. Notre variable target (Y) est 'gender', Récuprer X et y à partir du jeu de données "
   ]
  },
  {
   "cell_type": "code",
   "execution_count": 17,
   "metadata": {},
   "outputs": [
    {
     "data": {
      "text/plain": [
       "(110, 12)"
      ]
     },
     "execution_count": 17,
     "metadata": {},
     "output_type": "execute_result"
    }
   ],
   "source": [
    "y = mydata['Target']\n",
    "X = mydata.iloc[:,:-1]\n",
    "X.shape"
   ]
  },
  {
   "cell_type": "markdown",
   "metadata": {},
   "source": [
    "#### 5. Diviser la DataSet en donneés d'apprentissage et de test (20% pour le test)"
   ]
  },
  {
   "cell_type": "code",
   "execution_count": 18,
   "metadata": {},
   "outputs": [
    {
     "name": "stdout",
     "output_type": "stream",
     "text": [
      "Train: (88, 12) Test: (22, 12)\n"
     ]
    }
   ],
   "source": [
    "X_train, X_test, y_train, y_test = train_test_split(X, y, test_size=0.2, random_state=42, stratify=y)\n",
    "print('Train:', X_train.shape, 'Test:', X_test.shape)"
   ]
  },
  {
   "cell_type": "markdown",
   "metadata": {},
   "source": [
    "#### 6. Appliquer une normalisation centrée-réduite aux données en utilisant \"StandardScaler\""
   ]
  },
  {
   "cell_type": "code",
   "execution_count": 30,
   "metadata": {},
   "outputs": [],
   "source": [
    "# from sklearn.preprocessing import StandardScaler\n",
    "    \n",
    "# scaler = StandardScaler() \n",
    "# scaler.fit(X_train)"
   ]
  },
  {
   "cell_type": "markdown",
   "metadata": {},
   "source": [
    "#### 7. Développer votre meilleur modèle de classification"
   ]
  },
  {
   "cell_type": "code",
   "execution_count": 20,
   "metadata": {},
   "outputs": [],
   "source": [
    "from sklearn.neighbors import KNeighborsClassifier\n",
    "from sklearn.svm import SVC\n",
    "from sklearn.ensemble import RandomForestClassifier\n",
    "import xgboost as xgb\n",
    "from xgboost import XGBClassifier\n",
    "\n",
    "from sklearn.pipeline import Pipeline\n",
    "\n",
    "from sklearn.model_selection import GridSearchCV"
   ]
  },
  {
   "cell_type": "code",
   "execution_count": 21,
   "metadata": {},
   "outputs": [],
   "source": [
    "import warnings\n",
    "warnings.filterwarnings('ignore')"
   ]
  },
  {
   "cell_type": "code",
   "execution_count": 22,
   "metadata": {},
   "outputs": [
    {
     "name": "stdout",
     "output_type": "stream",
     "text": [
      "[['svc', 0.8636363636363636, {'svc__C': 10, 'svc__kernel': 'rbf'}], ['knn', 0.8181818181818182, {'knn__metric': 'euclidean', 'knn__n_neighbors': 1}], ['decision_tree', 0.5909090909090909, {}], ['random_forest', 0.7727272727272727, {'forest__n_estimators': 104}], ['boost', 0.6363636363636364, {'boost__learning_rate': 0.1, 'boost__loss': 'deviance'}], ['XGB', 0.6363636363636364, {'XGB__eta': 0.4, 'XGB__eval_metric': 'mlogloss', 'XGB__max_depth': 2}], ['MLP', 0.8636363636363636, {'MLP__activation': 'tanh', 'MLP__hidden_layer_sizes': (150,)}]]\n"
     ]
    }
   ],
   "source": [
    "model_name = ['svc', 'knn', 'decision_tree', 'random_forest', 'boost', 'XGB', 'MLP']\n",
    "pipelines = [\n",
    "             Pipeline([('scaler', StandardScaler()), ('svc', SVC())]),\n",
    "             Pipeline([('scaler', StandardScaler()), ('knn',  KNeighborsClassifier())]),\n",
    "             Pipeline([('scaler', StandardScaler()), ('decision_tree', DecisionTreeClassifier())]),\n",
    "             Pipeline([('scaler', StandardScaler()), ('forest', RandomForestClassifier())]),\n",
    "             Pipeline([('scaler', StandardScaler()), ('boost', GradientBoostingClassifier())]),\n",
    "             Pipeline([('scaler', StandardScaler()), ('XGB', XGBClassifier())]),\n",
    "             Pipeline([('scaler', StandardScaler()), ('MLP', MLPClassifier())])]\n",
    "\n",
    "parameters =[{'svc__kernel': ['linear', 'rbf'],\n",
    "               'svc__C':[1, 10]}, \n",
    "            {'knn__n_neighbors': np.arange(1, 10), \n",
    "              'knn__metric':[\"euclidean\", \"minkowski\", \"manhattan\"]},\n",
    "             {},\n",
    "             {'forest__n_estimators': np.arange(100, 125)},\n",
    "             {'boost__loss' : ['deviance', 'boost__exponential'], 'boost__learning_rate' : [0.1, 0.2, 0.3]},\n",
    "             {'XGB__eta' : [0.1, 0.2, 0.3, 0.4], 'XGB__max_depth' : [2, 4, 6, 8, 10], 'XGB__eval_metric' : ['mlogloss']},\n",
    "             {'MLP__hidden_layer_sizes' : [(50,), (100,), (150,)], 'MLP__activation' : ['identity', 'logistic', 'tanh', 'relu']}]\n",
    "\n",
    "\n",
    "score = []\n",
    "best_param = []\n",
    "\n",
    "\n",
    "for model, p, name in zip(pipelines, parameters, model_name):\n",
    "        exp = GridSearchCV(model, param_grid = p)\n",
    "        exp.fit(X_train, y_train)\n",
    "        score.append([name, exp.score(X_test, y_test), exp.best_params_])\n",
    "        #best_param.append(exp.best_params_)\n",
    "print(score)"
   ]
  },
  {
   "cell_type": "markdown",
   "metadata": {},
   "source": [
    "### Application en Temps Réel"
   ]
  },
  {
   "cell_type": "code",
   "execution_count": 31,
   "metadata": {},
   "outputs": [],
   "source": [
    "from Tools.tools import rec\n",
    "from Tools.tools import collection"
   ]
  },
  {
   "cell_type": "code",
   "execution_count": 32,
   "metadata": {},
   "outputs": [
    {
     "data": {
      "text/plain": [
       "SVC(C=1)"
      ]
     },
     "execution_count": 32,
     "metadata": {},
     "output_type": "execute_result"
    }
   ],
   "source": [
    "model = SVC(C= 1, kernel= 'rbf')\n",
    "model.fit(X_train, y_train)"
   ]
  },
  {
   "cell_type": "code",
   "execution_count": 33,
   "metadata": {},
   "outputs": [
    {
     "data": {
      "text/plain": [
       "StandardScaler()"
      ]
     },
     "execution_count": 33,
     "metadata": {},
     "output_type": "execute_result"
    }
   ],
   "source": [
    "from sklearn.preprocessing import StandardScaler\n",
    "    \n",
    "scaler = StandardScaler() \n",
    "scaler.fit(X_train)"
   ]
  },
  {
   "cell_type": "code",
   "execution_count": 43,
   "metadata": {},
   "outputs": [
    {
     "name": "stdout",
     "output_type": "stream",
     "text": [
      "Attention, l'enregistrement commence dans :\n",
      "5\n",
      "4\n",
      "3\n",
      "2\n",
      "1\n",
      "0\n",
      "Prononcer votre Digit : \n"
     ]
    },
    {
     "name": "stderr",
     "output_type": "stream",
     "text": [
      "WARNING:root:frame length (1200) is greater than FFT size (512), frame will be truncated. Increase NFFT to avoid.\n"
     ]
    },
    {
     "name": "stdout",
     "output_type": "stream",
     "text": [
      "------------------\n",
      "Digit :  0.0\n",
      "------------------\n"
     ]
    }
   ],
   "source": [
    "rec(scaler, model)"
   ]
  },
  {
   "cell_type": "code",
   "execution_count": 35,
   "metadata": {},
   "outputs": [
    {
     "data": {
      "text/plain": [
       "['model_MLP']"
      ]
     },
     "execution_count": 35,
     "metadata": {},
     "output_type": "execute_result"
    }
   ],
   "source": [
    "import joblib\n",
    "joblib.dump(MLPClassifier(activation='identity', hidden_layer_sizes = (150,)) , 'model_MLP')"
   ]
  },
  {
   "cell_type": "code",
   "execution_count": 36,
   "metadata": {},
   "outputs": [
    {
     "data": {
      "text/plain": [
       "MLPClassifier(activation='identity', hidden_layer_sizes=(150,))"
      ]
     },
     "execution_count": 36,
     "metadata": {},
     "output_type": "execute_result"
    }
   ],
   "source": [
    "m_jlib = joblib.load('model_MLP')\n",
    "m_jlib.fit(X_train, y_train)"
   ]
  },
  {
   "cell_type": "code",
   "execution_count": 41,
   "metadata": {},
   "outputs": [
    {
     "name": "stdout",
     "output_type": "stream",
     "text": [
      "Attention, l'enregistrement commence dans :\n",
      "5\n",
      "4\n",
      "3\n",
      "2\n",
      "1\n",
      "0\n",
      "Prononcer votre Digit : \n"
     ]
    },
    {
     "name": "stderr",
     "output_type": "stream",
     "text": [
      "WARNING:root:frame length (1200) is greater than FFT size (512), frame will be truncated. Increase NFFT to avoid.\n"
     ]
    },
    {
     "name": "stdout",
     "output_type": "stream",
     "text": [
      "------------------\n",
      "Digit :  6.0\n",
      "------------------\n"
     ]
    }
   ],
   "source": [
    "rec(scaler, m_jlib)"
   ]
  },
  {
   "cell_type": "code",
   "execution_count": null,
   "metadata": {},
   "outputs": [],
   "source": []
  }
 ],
 "metadata": {
  "kernelspec": {
   "display_name": "Python 3",
   "language": "python",
   "name": "python3"
  },
  "language_info": {
   "codemirror_mode": {
    "name": "ipython",
    "version": 3
   },
   "file_extension": ".py",
   "mimetype": "text/x-python",
   "name": "python",
   "nbconvert_exporter": "python",
   "pygments_lexer": "ipython3",
   "version": "3.8.3"
  }
 },
 "nbformat": 4,
 "nbformat_minor": 5
}
