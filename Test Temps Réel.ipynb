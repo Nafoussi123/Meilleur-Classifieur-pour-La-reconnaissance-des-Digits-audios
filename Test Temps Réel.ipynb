{
 "cells": [
  {
   "cell_type": "code",
   "execution_count": 16,
   "metadata": {},
   "outputs": [],
   "source": [
    "import joblib"
   ]
  },
  {
   "cell_type": "code",
   "execution_count": 17,
   "metadata": {},
   "outputs": [],
   "source": [
    "m_jlib = joblib.load('model_SVC')"
   ]
  },
  {
   "cell_type": "code",
   "execution_count": 18,
   "metadata": {},
   "outputs": [],
   "source": [
    "import sounddevice as sd  # sinon pip install sounddevice\n",
    "import time  # sinon pip install python-time\n",
    "import scipy.io.wavfile as wav\n",
    "# sinon pip install python_speech_features==0.4\n",
    "from python_speech_features import mfcc\n",
    "import wave\n",
    "import os\n",
    "import numpy as np\n",
    "import pandas as pd\n",
    "def rec(classifier):\n",
    "\n",
    "    print(\"Attention, l'enregistrement commence dans :\")\n",
    "    for i in range(0, 6):\n",
    "        time.sleep(1)\n",
    "        print(5-i)\n",
    "\n",
    "    time.sleep(1)\n",
    "\n",
    "    rate = 48000\n",
    "    duration = 2\n",
    "\n",
    "    print(\"Prononcer votre Digit : \")\n",
    "    data = sd.rec(int(duration * rate), samplerate=rate, channels=1)\n",
    "    sd.wait()\n",
    "\n",
    "    data = data / data.max() * np.iinfo(np.int16).max\n",
    "    data = data.astype(np.int16)\n",
    "\n",
    "    mfcc_feat = np.mean(mfcc(data, rate, numcep=12), axis=0)\n",
    "    mfcc_feat = np.expand_dims(mfcc_feat, axis=0)\n",
    "    pred = classifier.predict(mfcc_feat)\n",
    "    print('------------------')\n",
    "    print('Digit : ', pred[0])\n",
    "    print('------------------')"
   ]
  },
  {
   "cell_type": "code",
   "execution_count": 19,
   "metadata": {},
   "outputs": [
    {
     "name": "stdout",
     "output_type": "stream",
     "text": [
      "Attention, l'enregistrement commence dans :\n",
      "5\n",
      "4\n",
      "3\n",
      "2\n",
      "1\n",
      "0\n",
      "Prononcer votre Digit : \n"
     ]
    },
    {
     "name": "stderr",
     "output_type": "stream",
     "text": [
      "WARNING:root:frame length (1200) is greater than FFT size (512), frame will be truncated. Increase NFFT to avoid.\n"
     ]
    },
    {
     "name": "stdout",
     "output_type": "stream",
     "text": [
      "------------------\n",
      "Digit :  8.0\n",
      "------------------\n"
     ]
    }
   ],
   "source": [
    "rec(m_jlib)"
   ]
  },
  {
   "cell_type": "code",
   "execution_count": null,
   "metadata": {},
   "outputs": [],
   "source": []
  }
 ],
 "metadata": {
  "kernelspec": {
   "display_name": "Python 3",
   "language": "python",
   "name": "python3"
  },
  "language_info": {
   "codemirror_mode": {
    "name": "ipython",
    "version": 3
   },
   "file_extension": ".py",
   "mimetype": "text/x-python",
   "name": "python",
   "nbconvert_exporter": "python",
   "pygments_lexer": "ipython3",
   "version": "3.8.3"
  }
 },
 "nbformat": 4,
 "nbformat_minor": 4
}
